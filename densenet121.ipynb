{
 "cells": [
  {
   "cell_type": "code",
   "execution_count": null,
   "id": "e3469062",
   "metadata": {},
   "outputs": [],
   "source": [
    "%matplotlib inline\n",
    "%config InlineBackend.figure_format = 'retina'\n",
    "\n",
    "import matplotlib.pyplot as plt\n",
    "\n",
    "import torch\n",
    "from torch import nn\n",
    "from torch import optim\n",
    "import torch.nn.functional as F\n",
    "from torchvision import datasets, transforms, models\n",
    "#from autoaugment import ImageNetPolicy"
   ]
  },
  {
   "cell_type": "code",
   "execution_count": null,
   "id": "0d0bd9c2",
   "metadata": {},
   "outputs": [],
   "source": [
    "torch.set_default_tensor_type(torch.cuda.FloatTensor)"
   ]
  },
  {
   "cell_type": "code",
   "execution_count": null,
   "id": "af89eb95",
   "metadata": {},
   "outputs": [],
   "source": [
    "data_dir = r'D:/food/'\n",
    "\n",
    "train_transforms = transforms.Compose([transforms.RandomRotation(30),\n",
    "                                       transforms.RandomResizedCrop(224),\n",
    "                                       transforms.ToTensor(),\n",
    "                                       transforms.Normalize([0.485, 0.456, 0.406],\n",
    "                                                            [0.229, 0.224, 0.225])])\n",
    "\n",
    "test_transforms = transforms.Compose([transforms.Resize(255),\n",
    "                                      transforms.CenterCrop(224),\n",
    "                                      transforms.ToTensor(),\n",
    "                                      transforms.Normalize([0.485, 0.456, 0.406],\n",
    "                                                           [0.229, 0.224, 0.225])])\n",
    "\n",
    "train_data = datasets.ImageFolder(data_dir + r'/train', transform=train_transforms)\n",
    "test_data = datasets.ImageFolder(data_dir + r'/valid', transform=test_transforms)\n",
    "testdata=datasets.ImageFolder(data_dir + r'/test', transform=test_transforms)\n",
    "\n",
    "trainloader = torch.utils.data.DataLoader(train_data, batch_size=128, shuffle=True)\n",
    "testloader = torch.utils.data.DataLoader(test_data, batch_size=128)\n",
    "test_loader=torch.utils.data.DataLoader(testdata, batch_size=64)"
   ]
  },
  {
   "cell_type": "code",
   "execution_count": null,
   "id": "a6a25119",
   "metadata": {},
   "outputs": [],
   "source": [
    "model =models.densenet121(pretrained=True)\n",
    "model"
   ]
  },
  {
   "cell_type": "code",
   "execution_count": null,
   "id": "07d3bc10",
   "metadata": {},
   "outputs": [],
   "source": [
    "for param in model.parameters():\n",
    "    param.requires_grad = False\n",
    "\n",
    "from collections import OrderedDict\n",
    "classifier = nn.Sequential(OrderedDict([\n",
    "                          ('fc1', nn.Linear(1024, 500)),\n",
    "                          ('relu', nn.ReLU()),\n",
    "                          ('fc2', nn.Linear(500, 101)),\n",
    "                          ('output', nn.LogSoftmax(dim=1))\n",
    "                          ]))\n",
    "    \n",
    "model.classifier = classifier\n"
   ]
  },
  {
   "cell_type": "code",
   "execution_count": null,
   "id": "1760ed55",
   "metadata": {},
   "outputs": [],
   "source": [
    "for device in ['cuda']:\n",
    "\n",
    "    criterion = nn.NLLLoss()\n",
    "    optimizer = optim.Adam(model.classifier.parameters(), lr=0.001)\n",
    "\n",
    "    model.to(device)\n",
    "\n",
    "    for ii, (inputs, labels) in enumerate(trainloader):\n",
    "\n",
    "        inputs, labels = inputs.to(device), labels.to(device)\n",
    "\n",
    "        outputs = model.forward(inputs)\n",
    "        loss = criterion(outputs, labels)\n",
    "        loss.backward()\n",
    "        optimizer.step()\n",
    "\n",
    "        if ii==3:\n",
    "            break"
   ]
  },
  {
   "cell_type": "code",
   "execution_count": null,
   "id": "dd8a6415",
   "metadata": {},
   "outputs": [],
   "source": [
    "device = torch.device(\"cuda\" if torch.cuda.is_available() else \"cpu\")\n",
    "\n",
    "\n",
    "for param in model.parameters():\n",
    "    param.requires_grad = False\n",
    "\n",
    "model.classifier = nn.Sequential(nn.Linear(1024,512),nn.LeakyReLU(),nn.Linear(512,256),nn.LeakyReLU(),nn.Linear(256,101))\n",
    "\n",
    "criterion = nn.CrossEntropyLoss()"
   ]
  },
  {
   "cell_type": "code",
   "execution_count": null,
   "id": "7880e745",
   "metadata": {},
   "outputs": [],
   "source": [
    "optimizer = optim.Adam(model.classifier.parameters(), lr=0.001, betas=[0.9, 0.999])"
   ]
  },
  {
   "cell_type": "code",
   "execution_count": null,
   "id": "c5d733c5",
   "metadata": {},
   "outputs": [],
   "source": [
    "import numpy as np\n",
    "import time\n",
    "\n",
    "def train(n_epochs,trainloader,testloader, resnet, optimizer, criterion, save_path):\n",
    "    valid_loss_min = np.Inf \n",
    "    running_loss=0\n",
    "    \n",
    "  \n",
    "    for epoch in range(n_epochs):\n",
    "        \n",
    "        \n",
    "        for inputs, labels in trainloader:\n",
    "            \n",
    "        # Move input and label tensors to the default device\n",
    "            inputs, labels = inputs.cuda(), labels.cuda()\n",
    "            optimizer.zero_grad()\n",
    "            start = time.time()\n",
    "            logps = resnet(inputs)\n",
    "            loss = criterion(logps, labels)\n",
    "            loss.backward()\n",
    "            optimizer.step()\n",
    "        \n",
    "            running_loss += loss.item()\n",
    "        \n",
    "        \n",
    "        resnet.eval()\n",
    "        valid_loss=0\n",
    "        accuracy=0\n",
    "        with torch.no_grad():\n",
    "            for inputs, labels in testloader:\n",
    "                inputs, labels = inputs.cuda(), labels.cuda()\n",
    "                logps = resnet(inputs)\n",
    "                batch_loss = criterion(logps, labels)\n",
    "                valid_loss += batch_loss.item()\n",
    "                    \n",
    "                    # Calculate accuracy\n",
    "                \n",
    "                top_p, top_class = logps.topk(1, dim=1)\n",
    "                equals = top_class == labels.view(*top_class.shape)\n",
    "                accuracy += torch.mean(equals.type(torch.FloatTensor)).item()\n",
    "           \n",
    "        \n",
    "            if valid_loss <= valid_loss_min:\n",
    "                print(\"Validation loss decreased  Saving model\")\n",
    "                torch.save(resnet.state_dict(),'food_classifier_densenet121_noise.pt')\n",
    "                valid_loss_min=valid_loss\n",
    "                \n",
    "                    \n",
    "                \n",
    "                  \n",
    "                \n",
    "                \n",
    "                    \n",
    "            \n",
    "            \n",
    "            print(f\"Device = cuda; Time per batch: {(time.time() - start):.3f} seconds\")       \n",
    "            print(f\"Epoch /{n_epochs}.. \"\n",
    "                  f\"Train loss: {running_loss/len(trainloader):.3f}.. \"\n",
    "                  f\"Test loss: {valid_loss/len(testloader):.3f}.. \"\n",
    "                  f\"Test accuracy: {accuracy/len(testloader):.3f}\")\n",
    "            running_loss = 0\n",
    "            resnet.train()"
   ]
  },
  {
   "cell_type": "code",
   "execution_count": null,
   "id": "d329ae61",
   "metadata": {},
   "outputs": [],
   "source": [
    "train(30,trainloader,testloader, model, optimizer, criterion,'model_vowel_consonant.pt')"
   ]
  },
  {
   "cell_type": "code",
   "execution_count": null,
   "id": "c33395d5",
   "metadata": {},
   "outputs": [],
   "source": [
    "model.load_state_dict(torch.load('food_classifier_densenet121_noise.pt'))"
   ]
  },
  {
   "cell_type": "code",
   "execution_count": null,
   "id": "00f57700",
   "metadata": {},
   "outputs": [],
   "source": [
    "torch.save(model.state_dict(),'model_food.pth')"
   ]
  }
 ],
 "metadata": {
  "kernelspec": {
   "display_name": "Python 3 (ipykernel)",
   "language": "python",
   "name": "python3"
  },
  "language_info": {
   "codemirror_mode": {
    "name": "ipython",
    "version": 3
   },
   "file_extension": ".py",
   "mimetype": "text/x-python",
   "name": "python",
   "nbconvert_exporter": "python",
   "pygments_lexer": "ipython3",
   "version": "3.8.13"
  }
 },
 "nbformat": 4,
 "nbformat_minor": 5
}
