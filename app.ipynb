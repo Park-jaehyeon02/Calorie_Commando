{
 "cells": [
  {
   "cell_type": "code",
   "execution_count": null,
   "id": "e23b8086",
   "metadata": {},
   "outputs": [],
   "source": [
    "import os\n",
    "from flask import Flask, render_template,request\n",
    "app = Flask(__name__)\n",
    "\n",
    "from inference import get_flower_name"
   ]
  },
  {
   "cell_type": "code",
   "execution_count": null,
   "id": "5a6fadb4",
   "metadata": {},
   "outputs": [],
   "source": [
    "@app.route('/',methods=['GET','POST'])\n",
    "def hello_world():\n",
    "    if request.method=='GET':\n",
    "        return render_template('index.html')\n",
    "    if request.method=='POST':\n",
    "        try:\n",
    "            file=request.files['file']\n",
    "            image=file.read()\n",
    "            food_name=get_flower_name(image_bytes=image)\n",
    "            return render_template('result.html',food=food_name)\n",
    "\n",
    "            \n",
    "        except:\n",
    "\n",
    "            return render_template('index.html')"
   ]
  },
  {
   "cell_type": "code",
   "execution_count": null,
   "id": "70438e84",
   "metadata": {},
   "outputs": [],
   "source": [
    "app.run(debug=True,port=os.getenv('PORT',5000))"
   ]
  }
 ],
 "metadata": {
  "kernelspec": {
   "display_name": "Python 3 (ipykernel)",
   "language": "python",
   "name": "python3"
  },
  "language_info": {
   "codemirror_mode": {
    "name": "ipython",
    "version": 3
   },
   "file_extension": ".py",
   "mimetype": "text/x-python",
   "name": "python",
   "nbconvert_exporter": "python",
   "pygments_lexer": "ipython3",
   "version": "3.8.13"
  }
 },
 "nbformat": 4,
 "nbformat_minor": 5
}
